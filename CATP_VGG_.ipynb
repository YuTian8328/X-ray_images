{
  "nbformat": 4,
  "nbformat_minor": 0,
  "metadata": {
    "colab": {
      "name": "CATP_VGG_.ipynb",
      "provenance": [],
      "collapsed_sections": [],
      "mount_file_id": "19HkaC8qrPoBqhUzRa4yjf03vAIwHxyib",
      "authorship_tag": "ABX9TyNBNQeR9fEFAdYkJMoj9K4M",
      "include_colab_link": true
    },
    "kernelspec": {
      "name": "python3",
      "display_name": "Python 3"
    },
    "accelerator": "GPU"
  },
  "cells": [
    {
      "cell_type": "markdown",
      "metadata": {
        "id": "view-in-github",
        "colab_type": "text"
      },
      "source": [
        "<a href=\"https://colab.research.google.com/github/YuTian8328/X_ray_images/blob/master/CATP_VGG_.ipynb\" target=\"_parent\"><img src=\"https://colab.research.google.com/assets/colab-badge.svg\" alt=\"Open In Colab\"/></a>"
      ]
    },
    {
      "cell_type": "code",
      "metadata": {
        "id": "s7jJm6I3cGjk"
      },
      "source": [
        "import os\n",
        "import numpy as np\n",
        "import tensorflow as tf\n",
        "from keras.layers import Dense, Conv2D, MaxPooling2D, AvgPool2D, Input, Dropout, Flatten, BatchNormalization\n",
        "from keras.models import Sequential, Model\n",
        "from keras.optimizers import RMSprop\n",
        "from keras.callbacks import ModelCheckpoint, ReduceLROnPlateau, EarlyStopping\n",
        "from keras.preprocessing.image import ImageDataGenerator\n",
        "from keras.applications.vgg19 import VGG19\n",
        "from keras.applications.vgg19 import preprocess_input\n",
        "from keras.layers import GlobalAveragePooling2D,InputLayer\n",
        "from keras.applications.vgg19 import VGG19\n",
        "from keras.metrics import Recall\n"
      ],
      "execution_count": 14,
      "outputs": []
    },
    {
      "cell_type": "code",
      "metadata": {
        "id": "l9phg2RVTf5p"
      },
      "source": [
        "images=np.load('/content/drive/My Drive/Agg/images.npy')\n",
        "severity=np.load('/content/drive/My Drive/Agg/severity.npy')"
      ],
      "execution_count": 15,
      "outputs": []
    },
    {
      "cell_type": "code",
      "metadata": {
        "id": "RnlBOvoCE3EF",
        "outputId": "d2c8bf61-cf4b-43cf-d650-f82c748fef5b",
        "colab": {
          "base_uri": "https://localhost:8080/",
          "height": 33
        }
      },
      "source": [
        "severity=np.where(severity==3, 2, severity) \n",
        "np.unique(severity)"
      ],
      "execution_count": 16,
      "outputs": [
        {
          "output_type": "execute_result",
          "data": {
            "text/plain": [
              "array([0, 1, 2])"
            ]
          },
          "metadata": {
            "tags": []
          },
          "execution_count": 16
        }
      ]
    },
    {
      "cell_type": "code",
      "metadata": {
        "id": "5ybHX7kwTf1a"
      },
      "source": [
        "#Transform the shape of y\n",
        "def convert_to_one_hot(Y):\n",
        "    Y = np.eye(3)[Y]\n",
        "    return Y"
      ],
      "execution_count": 17,
      "outputs": []
    },
    {
      "cell_type": "code",
      "metadata": {
        "id": "5tv3qbfeHzSj",
        "outputId": "a58bfbf2-5ee9-41fc-fe2c-f2812761416f",
        "colab": {
          "base_uri": "https://localhost:8080/",
          "height": 33
        }
      },
      "source": [
        "y=convert_to_one_hot(severity)\n",
        "print(y.shape)"
      ],
      "execution_count": 18,
      "outputs": [
        {
          "output_type": "stream",
          "text": [
            "(12474, 3)\n"
          ],
          "name": "stdout"
        }
      ]
    },
    {
      "cell_type": "code",
      "metadata": {
        "id": "5ZY2HlxvEpvS"
      },
      "source": [
        "from sklearn.model_selection import train_test_split\n",
        "X_tval, X_test, y_tval, y_test = train_test_split(images, y, test_size=0.1, random_state=42)\n",
        "X_train, X_val, y_train, y_val = train_test_split(X_tval, y_tval, test_size=0.2, random_state=42)"
      ],
      "execution_count": 19,
      "outputs": []
    },
    {
      "cell_type": "code",
      "metadata": {
        "id": "JzfYJvaFv3hJ",
        "outputId": "eba6fc8f-f741-405d-f476-ba40789220da",
        "colab": {
          "base_uri": "https://localhost:8080/",
          "height": 50
        }
      },
      "source": [
        "print(X_train.shape)\n",
        "print(y_train.shape)"
      ],
      "execution_count": null,
      "outputs": [
        {
          "output_type": "stream",
          "text": [
            "(8980, 200, 150, 3)\n",
            "(8980, 3)\n"
          ],
          "name": "stdout"
        }
      ]
    },
    {
      "cell_type": "code",
      "metadata": {
        "id": "IeCWQB9jv3vJ"
      },
      "source": [
        "# X_train=X_train.astype('float16')/255.0"
      ],
      "execution_count": null,
      "outputs": []
    },
    {
      "cell_type": "code",
      "metadata": {
        "id": "y2kd9hHov36f"
      },
      "source": [
        "# X_val=X_val.astype('float16')/255.0"
      ],
      "execution_count": null,
      "outputs": []
    },
    {
      "cell_type": "code",
      "metadata": {
        "id": "3Ap2MvtMhgns"
      },
      "source": [
        ""
      ],
      "execution_count": null,
      "outputs": []
    },
    {
      "cell_type": "code",
      "metadata": {
        "id": "tchHRt2thfDw"
      },
      "source": [
        "# inputs=Input(shape=(None,200, 150, 3))"
      ],
      "execution_count": null,
      "outputs": []
    },
    {
      "cell_type": "code",
      "metadata": {
        "id": "dvFJM1xQ2ycJ"
      },
      "source": [
        ""
      ],
      "execution_count": null,
      "outputs": []
    },
    {
      "cell_type": "code",
      "metadata": {
        "id": "RHGN9GtDLKO0"
      },
      "source": [
        "from tensorflow.keras.applications import VGG19\n",
        "\n",
        "conv_base = VGG19(weights='imagenet',\n",
        "                  include_top=False,\n",
        "                  input_shape=(200, 150, 3))"
      ],
      "execution_count": null,
      "outputs": []
    },
    {
      "cell_type": "code",
      "metadata": {
        "id": "U2xjxBW9LKIO"
      },
      "source": [
        "conv_base.trainable = False"
      ],
      "execution_count": null,
      "outputs": []
    },
    {
      "cell_type": "code",
      "metadata": {
        "id": "WkXTStKrLKBZ"
      },
      "source": [
        "model = tf.keras.models.Sequential()\n",
        "\n",
        "# add convolutional base as layer \n",
        "model.add(conv_base)\n",
        "model.add(tf.keras.layers.GlobalAveragePooling2D())\n",
        "model.add(tf.keras.layers.BatchNormalization(axis=1))\n",
        "model.add(tf.keras.layers.Dense(256, activation='relu'))\n",
        "# model.add(tf.keras.layers.Dropout(.5))\n",
        "model.add(tf.keras.layers.Dense(128, activation='relu'))\n",
        "model.add(tf.keras.layers.Dropout(.5))\n",
        "model.add(tf.keras.layers.Dense(64, activation='relu',kernel_regularizer=tf.keras.regularizers.l2(l2=0.01)))\n",
        "# model.add(tf.keras.layers.LayerNormalization(axis=1))\n",
        "# model.add(tf.keras.layers.Dense(128, activation='relu',kernel_regularizer=tf.keras.regularizers.l2(l2=0.01)))\n",
        "# model.add(tf.keras.layers.Dropout(.2))\n",
        "# model.add(tf.keras.layers.Dense(256, activation='relu'))\n",
        "# model.add(tf.keras.layers.Dense(128, activation='relu'))\n",
        "\n",
        "model.add(tf.keras.layers.Dense(3,activation=\"softmax\"))\n",
        "\n",
        "# display model summary\n"
      ],
      "execution_count": null,
      "outputs": []
    },
    {
      "cell_type": "code",
      "metadata": {
        "id": "Rc5nKKUL2ylN",
        "outputId": "2ebe3605-98df-47ca-f2a9-a09a24d9d7f2",
        "colab": {
          "base_uri": "https://localhost:8080/",
          "height": 407
        }
      },
      "source": [
        "model.summary()"
      ],
      "execution_count": null,
      "outputs": [
        {
          "output_type": "stream",
          "text": [
            "Model: \"sequential\"\n",
            "_________________________________________________________________\n",
            "Layer (type)                 Output Shape              Param #   \n",
            "=================================================================\n",
            "vgg19 (Functional)           (None, 6, 4, 512)         20024384  \n",
            "_________________________________________________________________\n",
            "global_average_pooling2d (Gl (None, 512)               0         \n",
            "_________________________________________________________________\n",
            "batch_normalization (BatchNo (None, 512)               2048      \n",
            "_________________________________________________________________\n",
            "dense (Dense)                (None, 256)               131328    \n",
            "_________________________________________________________________\n",
            "dense_1 (Dense)              (None, 128)               32896     \n",
            "_________________________________________________________________\n",
            "dropout (Dropout)            (None, 128)               0         \n",
            "_________________________________________________________________\n",
            "dense_2 (Dense)              (None, 64)                8256      \n",
            "_________________________________________________________________\n",
            "dense_3 (Dense)              (None, 3)                 195       \n",
            "=================================================================\n",
            "Total params: 20,199,107\n",
            "Trainable params: 173,699\n",
            "Non-trainable params: 20,025,408\n",
            "_________________________________________________________________\n"
          ],
          "name": "stdout"
        }
      ]
    },
    {
      "cell_type": "code",
      "metadata": {
        "id": "wJENclJS2ysQ"
      },
      "source": [
        ""
      ],
      "execution_count": null,
      "outputs": []
    },
    {
      "cell_type": "code",
      "metadata": {
        "id": "EvRD8jLVwpuc",
        "outputId": "fe38df4f-3c10-4976-9dcc-575a115c3ade",
        "colab": {
          "base_uri": "https://localhost:8080/",
          "height": 147
        }
      },
      "source": [
        "def print_layers(model):\n",
        "    for idx, layer in enumerate(model.layers):\n",
        "        print(\"layer {}: {}, trainable: {}\".format(idx, layer.name, layer.trainable))\n",
        "\n",
        "print_layers(model)"
      ],
      "execution_count": null,
      "outputs": [
        {
          "output_type": "stream",
          "text": [
            "layer 0: vgg19, trainable: False\n",
            "layer 1: global_average_pooling2d, trainable: True\n",
            "layer 2: batch_normalization, trainable: True\n",
            "layer 3: dense, trainable: True\n",
            "layer 4: dense_1, trainable: True\n",
            "layer 5: dropout, trainable: True\n",
            "layer 6: dense_2, trainable: True\n",
            "layer 7: dense_3, trainable: True\n"
          ],
          "name": "stdout"
        }
      ]
    },
    {
      "cell_type": "code",
      "metadata": {
        "id": "xxCYEc0ODBXE"
      },
      "source": [
        "# model_chkpoint = ModelCheckpoint(filepath='/content/drive/My Drive/Agg/vgg/vgg_base_best_weights',save_best_only=True, save_weights_only=True)\n"
      ],
      "execution_count": null,
      "outputs": []
    },
    {
      "cell_type": "code",
      "metadata": {
        "id": "B7Yr3uKYAAk3",
        "outputId": "3cf6fe9c-3b8e-45a2-9203-d704d4056abb",
        "colab": {
          "base_uri": "https://localhost:8080/",
          "height": 687
        }
      },
      "source": [
        "# adam = Adam(lr = 0.0001)\n",
        "model.compile(loss='categorical_crossentropy', metrics=[Recall(class_id=2),'accuracy'], optimizer=RMSprop(lr = 0.001))\n",
        "history=model.fit(X_train, y_train, epochs=20, batch_size=128, class_weight={0:1,1:1,2:2}, validation_data=(X_val,y_val))"
      ],
      "execution_count": null,
      "outputs": [
        {
          "output_type": "stream",
          "text": [
            "Epoch 1/20\n",
            "71/71 [==============================] - 32s 451ms/step - loss: 1.8964 - recall: 0.6626 - accuracy: 0.4683 - val_loss: 1.4176 - val_recall: 0.7497 - val_accuracy: 0.5485\n",
            "Epoch 2/20\n",
            "71/71 [==============================] - 30s 421ms/step - loss: 1.3934 - recall: 0.7875 - accuracy: 0.5920 - val_loss: 1.1184 - val_recall: 0.7153 - val_accuracy: 0.6042\n",
            "Epoch 3/20\n",
            "71/71 [==============================] - 30s 428ms/step - loss: 1.1416 - recall: 0.8255 - accuracy: 0.6468 - val_loss: 0.9395 - val_recall: 0.7730 - val_accuracy: 0.6603\n",
            "Epoch 4/20\n",
            "71/71 [==============================] - 31s 437ms/step - loss: 0.9724 - recall: 0.8559 - accuracy: 0.6938 - val_loss: 0.9085 - val_recall: 0.8393 - val_accuracy: 0.6581\n",
            "Epoch 5/20\n",
            "71/71 [==============================] - 31s 443ms/step - loss: 0.8606 - recall: 0.8720 - accuracy: 0.7224 - val_loss: 0.8289 - val_recall: 0.8491 - val_accuracy: 0.7017\n",
            "Epoch 6/20\n",
            "71/71 [==============================] - 31s 443ms/step - loss: 0.7471 - recall: 0.8933 - accuracy: 0.7639 - val_loss: 0.9028 - val_recall: 0.8515 - val_accuracy: 0.6679\n",
            "Epoch 7/20\n",
            "71/71 [==============================] - 32s 447ms/step - loss: 0.6751 - recall: 0.9030 - accuracy: 0.7822 - val_loss: 0.7707 - val_recall: 0.7706 - val_accuracy: 0.7142\n",
            "Epoch 8/20\n",
            "71/71 [==============================] - 32s 451ms/step - loss: 0.6038 - recall: 0.9195 - accuracy: 0.8042 - val_loss: 0.8351 - val_recall: 0.8748 - val_accuracy: 0.7093\n",
            "Epoch 9/20\n",
            "71/71 [==============================] - 32s 454ms/step - loss: 0.5431 - recall: 0.9365 - accuracy: 0.8343 - val_loss: 0.7725 - val_recall: 0.8245 - val_accuracy: 0.7324\n",
            "Epoch 10/20\n",
            "71/71 [==============================] - 32s 456ms/step - loss: 0.4873 - recall: 0.9413 - accuracy: 0.8437 - val_loss: 0.7992 - val_recall: 0.7939 - val_accuracy: 0.7280\n",
            "Epoch 11/20\n",
            "71/71 [==============================] - 32s 457ms/step - loss: 0.4504 - recall: 0.9462 - accuracy: 0.8660 - val_loss: 0.9007 - val_recall: 0.8123 - val_accuracy: 0.7012\n",
            "Epoch 12/20\n",
            "71/71 [==============================] - 33s 458ms/step - loss: 0.4111 - recall: 0.9517 - accuracy: 0.8733 - val_loss: 1.0279 - val_recall: 0.9117 - val_accuracy: 0.6839\n",
            "Epoch 13/20\n",
            "71/71 [==============================] - 33s 458ms/step - loss: 0.3719 - recall: 0.9581 - accuracy: 0.8888 - val_loss: 0.9266 - val_recall: 0.8626 - val_accuracy: 0.7182\n",
            "Epoch 14/20\n",
            "71/71 [==============================] - 33s 458ms/step - loss: 0.3637 - recall: 0.9556 - accuracy: 0.8899 - val_loss: 0.8589 - val_recall: 0.8540 - val_accuracy: 0.7342\n",
            "Epoch 15/20\n",
            "71/71 [==============================] - 33s 459ms/step - loss: 0.3356 - recall: 0.9623 - accuracy: 0.9006 - val_loss: 0.8199 - val_recall: 0.7791 - val_accuracy: 0.7538\n",
            "Epoch 16/20\n",
            "71/71 [==============================] - 33s 459ms/step - loss: 0.3236 - recall: 0.9599 - accuracy: 0.9060 - val_loss: 0.8867 - val_recall: 0.8503 - val_accuracy: 0.7422\n",
            "Epoch 17/20\n",
            "71/71 [==============================] - 33s 460ms/step - loss: 0.3133 - recall: 0.9626 - accuracy: 0.9080 - val_loss: 0.8622 - val_recall: 0.8160 - val_accuracy: 0.7493\n",
            "Epoch 18/20\n",
            "71/71 [==============================] - 33s 461ms/step - loss: 0.2941 - recall: 0.9641 - accuracy: 0.9127 - val_loss: 0.9076 - val_recall: 0.8577 - val_accuracy: 0.7431\n",
            "Epoch 19/20\n",
            "71/71 [==============================] - 33s 460ms/step - loss: 0.2737 - recall: 0.9687 - accuracy: 0.9229 - val_loss: 0.9725 - val_recall: 0.8687 - val_accuracy: 0.7289\n",
            "Epoch 20/20\n",
            "71/71 [==============================] - 33s 460ms/step - loss: 0.2659 - recall: 0.9669 - accuracy: 0.9209 - val_loss: 1.0842 - val_recall: 0.8675 - val_accuracy: 0.7119\n"
          ],
          "name": "stdout"
        }
      ]
    },
    {
      "cell_type": "code",
      "metadata": {
        "id": "ilGcic9bJntf",
        "outputId": "d4116b7a-280a-4eec-a062-969a37a17e38",
        "colab": {
          "base_uri": "https://localhost:8080/",
          "height": 851
        }
      },
      "source": [
        "import matplotlib.pyplot as plt\n",
        "plt.plot(history.history['recall'])\n",
        "# plot validation accuracy\n",
        "plt.plot(history.history['val_' + 'recall'])\n",
        "# set title\n",
        "plt.title('recall vs epoch')\n",
        "# set x and y axis labels\n",
        "plt.ylabel('recall')\n",
        "plt.xlabel('epoch')\n",
        "# set the legend\n",
        "plt.legend(['train', 'validation'], loc='upper left')\n",
        "# display the plot\n",
        "plt.show()\n",
        "\n",
        "plt.plot(history.history['accuracy'])\n",
        "# plot validation accuracy\n",
        "plt.plot(history.history['val_' + 'accuracy'])\n",
        "# set title\n",
        "plt.title('accuracy vs epoch')\n",
        "# set x and y axis labels\n",
        "plt.ylabel('accuracy')\n",
        "plt.xlabel('epoch')\n",
        "# set the legend\n",
        "plt.legend(['train', 'validation'], loc='upper left')\n",
        "# display the plot\n",
        "plt.show()\n",
        "\n",
        "###-----plot loss---------------\n",
        "# plot training loss\n",
        "plt.plot(history.history['loss'])\n",
        "# plot validation loss\n",
        "plt.plot(history.history['val_loss'])\n",
        "# set title\n",
        "plt.title('loss vs epochs')\n",
        "# set x and y axis labels\n",
        "plt.ylabel('loss')\n",
        "plt.xlabel('epoch')\n",
        "# set the legend\n",
        "plt.legend(['train', 'validation'], loc='upper right')\n",
        "# display the plot\n",
        "plt.show()"
      ],
      "execution_count": null,
      "outputs": [
        {
          "output_type": "display_data",
          "data": {
            "image/png": "[encoded data removed]",
            "text/plain": [
              "<Figure size 432x288 with 1 Axes>"
            ]
          },
          "metadata": {
            "tags": [],
            "needs_background": "light"
          }
        },
        {
          "output_type": "display_data",
          "data": {
            "image/png": "[encoded data removed]",
            "text/plain": [
              "<Figure size 432x288 with 1 Axes>"
            ]
          },
          "metadata": {
            "tags": [],
            "needs_background": "light"
          }
        },
        {
          "output_type": "display_data",
          "data": {
            "image/png": "[encoded data removed]",
            "text/plain": [
              "<Figure size 432x288 with 1 Axes>"
            ]
          },
          "metadata": {
            "tags": [],
            "needs_background": "light"
          }
        }
      ]
    },
    {
      "cell_type": "markdown",
      "metadata": {
        "id": "q8Uk2sgk5xoK"
      },
      "source": [
        "\t\n",
        "image: ![Alt](/wp.png \"Title\")"
      ]
    },
    {
      "cell_type": "code",
      "metadata": {
        "id": "QzChorl6LU-6"
      },
      "source": [
        ""
      ],
      "execution_count": null,
      "outputs": []
    },
    {
      "cell_type": "code",
      "metadata": {
        "id": "apgsZ1Dg0TDx"
      },
      "source": [
        "model_json = model.to_json()\n",
        "with open(\"/content/drive/My Drive/Agg//vgg/vgg_base_model.json\", \"w\") as json_file:\n",
        "    json_file.write(model_json)"
      ],
      "execution_count": null,
      "outputs": []
    },
    {
      "cell_type": "code",
      "metadata": {
        "id": "rdcXgaHBaSLO",
        "outputId": "c80c2d07-f0b9-4c22-8db4-5a295b6ca824",
        "colab": {
          "base_uri": "https://localhost:8080/",
          "height": 33
        }
      },
      "source": [
        "y_test[0]"
      ],
      "execution_count": null,
      "outputs": [
        {
          "output_type": "execute_result",
          "data": {
            "text/plain": [
              "array([0., 1., 0.])"
            ]
          },
          "metadata": {
            "tags": []
          },
          "execution_count": 20
        }
      ]
    },
    {
      "cell_type": "code",
      "metadata": {
        "id": "vcwHfze64Buu",
        "outputId": "3bb78982-0fdb-4402-9a85-679283b81911",
        "colab": {
          "base_uri": "https://localhost:8080/",
          "height": 232
        }
      },
      "source": [
        "# Perfomance on test set\n",
        "from sklearn.metrics import classification_report\n",
        "\n",
        "y_pred = model.predict(X_test,verbose=1)\n",
        "y_pred_bool = np.argmax(y_pred, axis=1)\n",
        "y_test_bool = np.argmax(y_test, axis=1)\n",
        "print(classification_report(y_test_bool, y_pred_bool))\n"
      ],
      "execution_count": null,
      "outputs": [
        {
          "output_type": "stream",
          "text": [
            " 1/39 [..............................] - ETA: 0sWARNING:tensorflow:Callbacks method `on_predict_batch_end` is slow compared to the batch time (batch time: 0.0036s vs `on_predict_batch_end` time: 0.0930s). Check your callbacks.\n",
            "39/39 [==============================] - 4s 98ms/step\n",
            "              precision    recall  f1-score   support\n",
            "\n",
            "           0       0.80      0.62      0.70       315\n",
            "           1       0.68      0.67      0.67       490\n",
            "           2       0.71      0.84      0.77       443\n",
            "\n",
            "    accuracy                           0.72      1248\n",
            "   macro avg       0.73      0.71      0.71      1248\n",
            "weighted avg       0.72      0.72      0.71      1248\n",
            "\n"
          ],
          "name": "stdout"
        }
      ]
    },
    {
      "cell_type": "code",
      "metadata": {
        "id": "U8i4ro7cao_A",
        "outputId": "5df90867-6a8f-41f2-8f5c-41366ca02dda",
        "colab": {
          "base_uri": "https://localhost:8080/",
          "height": 232
        }
      },
      "source": [
        "# Performance on validation set\n",
        "\n",
        "y_val_pred = model.predict(X_val, batch_size=32,verbose=1)\n",
        "y_val_pred_bool = np.argmax(y_val_pred, axis=1)\n",
        "y_val_bool = np.argmax(y_val, axis=1)\n",
        "print(classification_report(y_val_bool,y_val_pred_bool, ))\n"
      ],
      "execution_count": null,
      "outputs": [
        {
          "output_type": "stream",
          "text": [
            " 2/71 [..............................] - ETA: 3sWARNING:tensorflow:Callbacks method `on_predict_batch_end` is slow compared to the batch time (batch time: 0.0032s vs `on_predict_batch_end` time: 0.0944s). Check your callbacks.\n",
            "71/71 [==============================] - 8s 106ms/step\n",
            "              precision    recall  f1-score   support\n",
            "\n",
            "           0       0.71      0.62      0.66       527\n",
            "           1       0.71      0.62      0.66       904\n",
            "           2       0.72      0.87      0.79       815\n",
            "\n",
            "    accuracy                           0.71      2246\n",
            "   macro avg       0.71      0.70      0.70      2246\n",
            "weighted avg       0.71      0.71      0.71      2246\n",
            "\n"
          ],
          "name": "stdout"
        }
      ]
    },
    {
      "cell_type": "code",
      "metadata": {
        "id": "v-55pfm1MnhQ",
        "outputId": "36606ede-d6c4-417d-c764-f54abe913fb5",
        "colab": {
          "base_uri": "https://localhost:8080/",
          "height": 50
        }
      },
      "source": [
        "model.evaluate(X_test, y_test,batch_size=64)\n"
      ],
      "execution_count": null,
      "outputs": [
        {
          "output_type": "stream",
          "text": [
            "20/20 [==============================] - 4s 179ms/step - loss: 1.0796 - recall: 0.8330 - accuracy: 0.7171\n"
          ],
          "name": "stdout"
        },
        {
          "output_type": "execute_result",
          "data": {
            "text/plain": [
              "[1.0796027183532715, 0.8329570889472961, 0.7171474099159241]"
            ]
          },
          "metadata": {
            "tags": []
          },
          "execution_count": 23
        }
      ]
    },
    {
      "cell_type": "code",
      "metadata": {
        "id": "U5TdsVuELaa4",
        "outputId": "1116c75b-97d0-4ee2-a58c-e937fbefc14e",
        "colab": {
          "base_uri": "https://localhost:8080/",
          "height": 765
        }
      },
      "source": [
        "\n",
        "# unfreeeze all layers\n",
        "conv_base.trainable = True\n",
        "\n",
        "# freeze all layers except the last 4 \n",
        "for layer in conv_base.layers[:-4]:\n",
        "    layer.trainable = False\n",
        "\n",
        "# print the trainable status of individual layers\n",
        "for layer in conv_base.layers:\n",
        "  print(layer,\"  \",  layer.trainable)\n",
        "model.summary()"
      ],
      "execution_count": null,
      "outputs": [
        {
          "output_type": "stream",
          "text": [
            "<tensorflow.python.keras.engine.input_layer.InputLayer object at 0x7fe96086f080>    False\n",
            "<tensorflow.python.keras.layers.convolutional.Conv2D object at 0x7fe958a5da58>    False\n",
            "<tensorflow.python.keras.layers.convolutional.Conv2D object at 0x7fe958a7c358>    False\n",
            "<tensorflow.python.keras.layers.pooling.MaxPooling2D object at 0x7fe958a7c710>    False\n",
            "<tensorflow.python.keras.layers.convolutional.Conv2D object at 0x7fe958248400>    False\n",
            "<tensorflow.python.keras.layers.convolutional.Conv2D object at 0x7fe95040a278>    False\n",
            "<tensorflow.python.keras.layers.pooling.MaxPooling2D object at 0x7fe95040a6a0>    False\n",
            "<tensorflow.python.keras.layers.convolutional.Conv2D object at 0x7fe95040ae80>    False\n",
            "<tensorflow.python.keras.layers.convolutional.Conv2D object at 0x7fe950417cf8>    False\n",
            "<tensorflow.python.keras.layers.convolutional.Conv2D object at 0x7fe9504179b0>    False\n",
            "<tensorflow.python.keras.layers.convolutional.Conv2D object at 0x7fe95041d9e8>    False\n",
            "<tensorflow.python.keras.layers.pooling.MaxPooling2D object at 0x7fe9504298d0>    False\n",
            "<tensorflow.python.keras.layers.convolutional.Conv2D object at 0x7fe9504280f0>    False\n",
            "<tensorflow.python.keras.layers.convolutional.Conv2D object at 0x7fe950428f28>    False\n",
            "<tensorflow.python.keras.layers.convolutional.Conv2D object at 0x7fe950437320>    False\n",
            "<tensorflow.python.keras.layers.convolutional.Conv2D object at 0x7fe950437c18>    False\n",
            "<tensorflow.python.keras.layers.pooling.MaxPooling2D object at 0x7fe9504437f0>    False\n",
            "<tensorflow.python.keras.layers.convolutional.Conv2D object at 0x7fe9503c9320>    False\n",
            "<tensorflow.python.keras.layers.convolutional.Conv2D object at 0x7fe9503c9eb8>    True\n",
            "<tensorflow.python.keras.layers.convolutional.Conv2D object at 0x7fe9503d35c0>    True\n",
            "<tensorflow.python.keras.layers.convolutional.Conv2D object at 0x7fe9503d3550>    True\n",
            "<tensorflow.python.keras.layers.pooling.MaxPooling2D object at 0x7fe9503d9a20>    True\n",
            "Model: \"sequential\"\n",
            "_________________________________________________________________\n",
            "Layer (type)                 Output Shape              Param #   \n",
            "=================================================================\n",
            "vgg19 (Functional)           (None, 6, 4, 512)         20024384  \n",
            "_________________________________________________________________\n",
            "global_average_pooling2d (Gl (None, 512)               0         \n",
            "_________________________________________________________________\n",
            "batch_normalization (BatchNo (None, 512)               2048      \n",
            "_________________________________________________________________\n",
            "dense (Dense)                (None, 256)               131328    \n",
            "_________________________________________________________________\n",
            "dense_1 (Dense)              (None, 128)               32896     \n",
            "_________________________________________________________________\n",
            "dropout (Dropout)            (None, 128)               0         \n",
            "_________________________________________________________________\n",
            "dense_2 (Dense)              (None, 64)                8256      \n",
            "_________________________________________________________________\n",
            "dense_3 (Dense)              (None, 3)                 195       \n",
            "=================================================================\n",
            "Total params: 20,199,107\n",
            "Trainable params: 7,253,123\n",
            "Non-trainable params: 12,945,984\n",
            "_________________________________________________________________\n"
          ],
          "name": "stdout"
        }
      ]
    },
    {
      "cell_type": "code",
      "metadata": {
        "id": "Qp3EcGzpLp5w"
      },
      "source": [
        "model.compile(loss='categorical_crossentropy', metrics=[Recall(class_id=2),'accuracy'], optimizer=RMSprop(lr = 0.00001))\n"
      ],
      "execution_count": null,
      "outputs": []
    },
    {
      "cell_type": "code",
      "metadata": {
        "id": "SaK_4NvyL3hk"
      },
      "source": [
        "model_chkpoint = ModelCheckpoint(filepath='/content/drive/My Drive/Agg//vgg/vgg_base_best_weights',save_best_only=True, save_weights_only=True)\n"
      ],
      "execution_count": null,
      "outputs": []
    },
    {
      "cell_type": "code",
      "metadata": {
        "id": "L07_IbDgL39W",
        "outputId": "eb24ac09-a86e-4646-c8b0-9bc0f3791546",
        "colab": {
          "base_uri": "https://localhost:8080/",
          "height": 720
        }
      },
      "source": [
        "history_fine_tune=model.fit(X_train, y_train, epochs=40, initial_epoch =  history.epoch[-1], batch_size=128, class_weight={0:1,1:1,2:2}, \\\n",
        "                            callbacks=[model_chkpoint],validation_data=(X_val,y_val))\n"
      ],
      "execution_count": null,
      "outputs": [
        {
          "output_type": "stream",
          "text": [
            "Epoch 20/40\n",
            "71/71 [==============================] - 36s 511ms/step - loss: 0.2421 - recall_1: 0.9833 - accuracy: 0.9275 - val_loss: 0.9396 - val_recall_1: 0.8736 - val_accuracy: 0.7507\n",
            "Epoch 21/40\n",
            "71/71 [==============================] - 36s 506ms/step - loss: 0.2123 - recall_1: 0.9809 - accuracy: 0.9398 - val_loss: 0.9199 - val_recall_1: 0.8466 - val_accuracy: 0.7458\n",
            "Epoch 22/40\n",
            "71/71 [==============================] - 36s 507ms/step - loss: 0.1910 - recall_1: 0.9836 - accuracy: 0.9486 - val_loss: 0.8410 - val_recall_1: 0.8307 - val_accuracy: 0.7645\n",
            "Epoch 23/40\n",
            "71/71 [==============================] - 36s 500ms/step - loss: 0.1841 - recall_1: 0.9833 - accuracy: 0.9504 - val_loss: 0.9271 - val_recall_1: 0.7804 - val_accuracy: 0.7569\n",
            "Epoch 24/40\n",
            "71/71 [==============================] - 36s 500ms/step - loss: 0.1765 - recall_1: 0.9830 - accuracy: 0.9506 - val_loss: 0.9393 - val_recall_1: 0.8025 - val_accuracy: 0.7636\n",
            "Epoch 25/40\n",
            "71/71 [==============================] - 36s 500ms/step - loss: 0.1702 - recall_1: 0.9827 - accuracy: 0.9524 - val_loss: 0.8715 - val_recall_1: 0.8086 - val_accuracy: 0.7636\n",
            "Epoch 26/40\n",
            "71/71 [==============================] - 36s 501ms/step - loss: 0.1680 - recall_1: 0.9818 - accuracy: 0.9512 - val_loss: 0.9006 - val_recall_1: 0.8098 - val_accuracy: 0.7667\n",
            "Epoch 27/40\n",
            "71/71 [==============================] - 36s 502ms/step - loss: 0.1656 - recall_1: 0.9857 - accuracy: 0.9529 - val_loss: 0.8428 - val_recall_1: 0.8540 - val_accuracy: 0.7694\n",
            "Epoch 28/40\n",
            "71/71 [==============================] - 36s 502ms/step - loss: 0.1551 - recall_1: 0.9881 - accuracy: 0.9568 - val_loss: 0.9324 - val_recall_1: 0.8368 - val_accuracy: 0.7649\n",
            "Epoch 29/40\n",
            "71/71 [==============================] - 36s 503ms/step - loss: 0.1587 - recall_1: 0.9821 - accuracy: 0.9536 - val_loss: 0.9129 - val_recall_1: 0.8429 - val_accuracy: 0.7796\n",
            "Epoch 30/40\n",
            "71/71 [==============================] - 36s 502ms/step - loss: 0.1467 - recall_1: 0.9857 - accuracy: 0.9589 - val_loss: 0.9278 - val_recall_1: 0.8209 - val_accuracy: 0.7769\n",
            "Epoch 31/40\n",
            "71/71 [==============================] - 36s 502ms/step - loss: 0.1447 - recall_1: 0.9878 - accuracy: 0.9575 - val_loss: 0.8975 - val_recall_1: 0.8245 - val_accuracy: 0.7658\n",
            "Epoch 32/40\n",
            "71/71 [==============================] - 36s 502ms/step - loss: 0.1452 - recall_1: 0.9860 - accuracy: 0.9573 - val_loss: 0.9076 - val_recall_1: 0.8552 - val_accuracy: 0.7809\n",
            "Epoch 33/40\n",
            "71/71 [==============================] - 36s 502ms/step - loss: 0.1449 - recall_1: 0.9842 - accuracy: 0.9587 - val_loss: 0.9199 - val_recall_1: 0.8479 - val_accuracy: 0.7725\n",
            "Epoch 34/40\n",
            "71/71 [==============================] - 36s 503ms/step - loss: 0.1444 - recall_1: 0.9866 - accuracy: 0.9566 - val_loss: 0.9410 - val_recall_1: 0.8233 - val_accuracy: 0.7698\n",
            "Epoch 35/40\n",
            "71/71 [==============================] - 36s 503ms/step - loss: 0.1418 - recall_1: 0.9833 - accuracy: 0.9582 - val_loss: 0.9058 - val_recall_1: 0.8049 - val_accuracy: 0.7805\n",
            "Epoch 36/40\n",
            "71/71 [==============================] - 36s 503ms/step - loss: 0.1399 - recall_1: 0.9875 - accuracy: 0.9579 - val_loss: 0.9137 - val_recall_1: 0.8859 - val_accuracy: 0.7814\n",
            "Epoch 37/40\n",
            "71/71 [==============================] - 36s 503ms/step - loss: 0.1425 - recall_1: 0.9842 - accuracy: 0.9546 - val_loss: 0.9049 - val_recall_1: 0.8233 - val_accuracy: 0.7743\n",
            "Epoch 38/40\n",
            "71/71 [==============================] - 36s 503ms/step - loss: 0.1393 - recall_1: 0.9854 - accuracy: 0.9563 - val_loss: 0.9313 - val_recall_1: 0.8196 - val_accuracy: 0.7756\n",
            "Epoch 39/40\n",
            "71/71 [==============================] - 36s 504ms/step - loss: 0.1402 - recall_1: 0.9860 - accuracy: 0.9581 - val_loss: 0.9632 - val_recall_1: 0.8552 - val_accuracy: 0.7792\n",
            "Epoch 40/40\n",
            "58/71 [=======================>......] - ETA: 5s - loss: 0.1351 - recall_1: 0.9849 - accuracy: 0.9580"
          ],
          "name": "stdout"
        }
      ]
    },
    {
      "cell_type": "code",
      "metadata": {
        "id": "AePlQErdMcwJ"
      },
      "source": [
        "\n",
        "# earlier model\n",
        "history.history['accuracy'] += history_fine_tune.history['accuracy']\n",
        "history.history['val_accuracy'] += history_fine_tune.history['val_accuracy']\n",
        "\n",
        "history.history['recall'] += history_fine_tune.history['recall_1']\n",
        "history.history['val_recall'] += history_fine_tune.history['val_recall_1']\n",
        "history.history['loss'] += history_fine_tune.history['loss']\n",
        "history.history['val_loss'] += history_fine_tune.history['val_loss']"
      ],
      "execution_count": null,
      "outputs": []
    },
    {
      "cell_type": "code",
      "metadata": {
        "id": "YADl4bU-MdUN"
      },
      "source": [
        "plt.plot(history.history['recall'])\n",
        "plt.plot(history.history['val_' + 'recall'])\n",
        "\n",
        "\n",
        "# set title\n",
        "plt.title('recall vs epoch')\n",
        "# set x and y axis labels\n",
        "plt.ylabel('recall')\n",
        "plt.xlabel('epoch')\n",
        "# set the legend\n",
        "plt.legend(['train', 'validation'], loc='upper left')\n",
        "# display the plot\n",
        "plt.show()\n",
        "\n",
        "plt.plot(history.history['accuracy'])\n",
        "# plot validation accuracy\n",
        "plt.plot(history.history['val_' + 'accuracy'])\n",
        "# set title\n",
        "plt.title('accuracy vs epoch')\n",
        "# set x and y axis labels\n",
        "plt.ylabel('accuracy')\n",
        "plt.xlabel('epoch')\n",
        "# set the legend\n",
        "plt.legend(['train', 'validation'], loc='upper left')\n",
        "# display the plot\n",
        "plt.show()\n",
        "\n",
        "###-----plot loss---------------\n",
        "# plot training loss\n",
        "plt.plot(history.history['loss'])\n",
        "# plot validation loss\n",
        "plt.plot(history.history['val_loss'])\n",
        "# set title\n",
        "plt.title('loss vs epochs')\n",
        "# set x and y axis labels\n",
        "plt.ylabel('loss')\n",
        "plt.xlabel('epoch')\n",
        "# set the legend\n",
        "plt.legend(['train', 'validation'], loc='upper right')\n",
        "# display the plot\n",
        "plt.show()"
      ],
      "execution_count": null,
      "outputs": []
    },
    {
      "cell_type": "code",
      "metadata": {
        "id": "k3_fHtSMMdp2"
      },
      "source": [
        "model_json = model.to_json()\n",
        "with open(\"/content/drive/My Drive/Agg//vgg/vgg_base_model.json\", \"w\") as json_file:\n",
        "    json_file.write(model_json)"
      ],
      "execution_count": null,
      "outputs": []
    },
    {
      "cell_type": "code",
      "metadata": {
        "id": "V8f3HPR51LGx",
        "outputId": "9bffdf26-ecd5-4bc0-d446-e01fa5bb6dfb",
        "colab": {
          "base_uri": "https://localhost:8080/",
          "height": 375
        }
      },
      "source": [
        "from keras.models import model_from_json\n",
        "\n",
        "# load json and create model\n",
        "json_file = open('/content/drive/My Drive/Agg/chest_xray_base_model.json', 'r')\n",
        "loaded_model_json = json_file.read()\n",
        "json_file.close()\n",
        "model_a_test = model_from_json(loaded_model_json)\n",
        "# load weights into new model\n",
        "model_a_test.load_weights(\"/content/drive/My Drive/Agg/chest_xray_base_best_weights\")\n",
        "\n",
        "# base_learning_rate = 1e-5\n",
        "\n",
        "model_a_test.compile(loss='categorical_crossentropy', metrics=[metrics.Recall(class_id=2),'accuracy'], optimizer=RMSprop(lr = 0.00001))\n",
        "\n",
        "y_pred = model_a_test.predict(X_test, batch_size=64, verbose=1)\n",
        "y_pred_bool = np.argmax(y_pred, axis=1)\n",
        "y_test_bool = np.argmax(y_test, axis=1)\n",
        "from sklearn.metrics import classification_report\n",
        "\n",
        "report_a=classification_report(y_test_bool, y_pred_bool,output_dict=True)\n",
        "report_a"
      ],
      "execution_count": 11,
      "outputs": [
        {
          "output_type": "stream",
          "text": [
            "20/20 [==============================] - 390s 20s/step\n"
          ],
          "name": "stdout"
        },
        {
          "output_type": "execute_result",
          "data": {
            "text/plain": [
              "{'0': {'f1-score': 0.6805778491171749,\n",
              "  'precision': 0.6883116883116883,\n",
              "  'recall': 0.6730158730158731,\n",
              "  'support': 315},\n",
              " '1': {'f1-score': 0.6687763713080168,\n",
              "  'precision': 0.6921397379912664,\n",
              "  'recall': 0.6469387755102041,\n",
              "  'support': 490},\n",
              " '2': {'f1-score': 0.7978378378378379,\n",
              "  'precision': 0.7655601659751037,\n",
              "  'recall': 0.8329571106094809,\n",
              "  'support': 443},\n",
              " 'accuracy': 0.719551282051282,\n",
              " 'macro avg': {'f1-score': 0.7157306860876765,\n",
              "  'precision': 0.7153371974260194,\n",
              "  'recall': 0.717637253045186,\n",
              "  'support': 1248},\n",
              " 'weighted avg': {'f1-score': 0.7175677937299685,\n",
              "  'precision': 0.7172354222442896,\n",
              "  'recall': 0.719551282051282,\n",
              "  'support': 1248}}"
            ]
          },
          "metadata": {
            "tags": []
          },
          "execution_count": 11
        }
      ]
    },
    {
      "cell_type": "code",
      "metadata": {
        "id": "cQrKwyUq8H97"
      },
      "source": [
        "import json"
      ],
      "execution_count": 4,
      "outputs": []
    },
    {
      "cell_type": "code",
      "metadata": {
        "id": "k5q0MWNE9gCB"
      },
      "source": [
        "\n",
        "\n",
        "with open('/content/drive/My Drive/Agg/vgg/report_a.json', 'w') as fp:\n",
        "    json.dump(report_a, fp)"
      ],
      "execution_count": 12,
      "outputs": []
    },
    {
      "cell_type": "code",
      "metadata": {
        "id": "gYA1d9BaNoDT",
        "outputId": "d3d16869-ea70-42b3-c484-3390eaf8d709",
        "colab": {
          "base_uri": "https://localhost:8080/",
          "height": 33
        }
      },
      "source": [
        "from keras.models import model_from_json\n",
        "\n",
        "# load json and create model\n",
        "json_file = open('/content/drive/My Drive/Agg/vgg/vgg_base_model.json', 'r')\n",
        "loaded_model_json = json_file.read()\n",
        "json_file.close()\n",
        "model_b = model_from_json(loaded_model_json)\n",
        "# load weights into new model\n",
        "model_b.load_weights(\"/content/drive/My Drive/Agg/vgg/vgg_base_best_weights\")\n",
        "\n",
        "# base_learning_rate = 1e-5"
      ],
      "execution_count": 12,
      "outputs": [
        {
          "output_type": "execute_result",
          "data": {
            "text/plain": [
              "<tensorflow.python.training.tracking.util.CheckpointLoadStatus at 0x7fdccbcd59e8>"
            ]
          },
          "metadata": {
            "tags": []
          },
          "execution_count": 12
        }
      ]
    },
    {
      "cell_type": "code",
      "metadata": {
        "id": "kIGZ-B961Lio",
        "outputId": "28167d7d-16d8-4afd-beff-e93755a3e7e0",
        "colab": {
          "base_uri": "https://localhost:8080/",
          "height": 375
        }
      },
      "source": [
        "from keras import metrics\n",
        "from keras.optimizers import RMSprop\n",
        "model_b.compile(loss='categorical_crossentropy', metrics=[metrics.Recall(class_id=2),'accuracy'], optimizer=RMSprop(lr = 0.00001))\n",
        "\n",
        "y_pred = model_b.predict(X_test, batch_size=64, verbose=1)\n",
        "y_pred_bool = np.argmax(y_pred, axis=1)\n",
        "y_test_bool = np.argmax(y_test, axis=1)\n",
        "from sklearn.metrics import classification_report\n",
        "\n",
        "report_b=classification_report(y_test_bool, y_pred_bool,output_dict=True)\n",
        "# report_b"
      ],
      "execution_count": 20,
      "outputs": [
        {
          "output_type": "stream",
          "text": [
            "20/20 [==============================] - 226s 11s/step\n"
          ],
          "name": "stdout"
        },
        {
          "output_type": "execute_result",
          "data": {
            "text/plain": [
              "{'0': {'f1-score': 0.7606557377049181,\n",
              "  'precision': 0.7864406779661017,\n",
              "  'recall': 0.7365079365079366,\n",
              "  'support': 315},\n",
              " '1': {'f1-score': 0.7242063492063493,\n",
              "  'precision': 0.7046332046332047,\n",
              "  'recall': 0.7448979591836735,\n",
              "  'support': 490},\n",
              " '2': {'f1-score': 0.8041002277904329,\n",
              "  'precision': 0.8114942528735632,\n",
              "  'recall': 0.7968397291196389,\n",
              "  'support': 443},\n",
              " 'accuracy': 0.7612179487179487,\n",
              " 'macro avg': {'f1-score': 0.7629874382339001,\n",
              "  'precision': 0.7675227118242899,\n",
              "  'recall': 0.7594152082704163,\n",
              "  'support': 1248},\n",
              " 'weighted avg': {'f1-score': 0.7617660812494569,\n",
              "  'precision': 0.7632139726382859,\n",
              "  'recall': 0.7612179487179487,\n",
              "  'support': 1248}}"
            ]
          },
          "metadata": {
            "tags": []
          },
          "execution_count": 20
        }
      ]
    },
    {
      "cell_type": "code",
      "metadata": {
        "id": "BKZ9dS700sdv"
      },
      "source": [
        "with open('/content/drive/My Drive/Agg/vgg/report_b.json', 'w') as fp:\n",
        "    json.dump(report_b, fp)"
      ],
      "execution_count": 21,
      "outputs": []
    },
    {
      "cell_type": "code",
      "metadata": {
        "id": "QQkP-xUp-iQ3"
      },
      "source": [
        "with open('/content/drive/My Drive/Agg/vgg/report_b.json', 'r') as fp:\n",
        "    report_b = json.load(fp)\n",
        "# report_b"
      ],
      "execution_count": 22,
      "outputs": []
    },
    {
      "cell_type": "code",
      "metadata": {
        "id": "VKM9amPQ-hbj",
        "outputId": "94971e6a-39a9-49cb-fb70-38d06c181cc9",
        "colab": {
          "base_uri": "https://localhost:8080/",
          "height": 358
        }
      },
      "source": [
        ""
      ],
      "execution_count": 19,
      "outputs": [
        {
          "output_type": "execute_result",
          "data": {
            "text/plain": [
              "{'0': {'f1-score': 0.7606557377049181,\n",
              "  'precision': 0.7864406779661017,\n",
              "  'recall': 0.7365079365079366,\n",
              "  'support': 315},\n",
              " '1': {'f1-score': 0.7242063492063493,\n",
              "  'precision': 0.7046332046332047,\n",
              "  'recall': 0.7448979591836735,\n",
              "  'support': 490},\n",
              " '2': {'f1-score': 0.8041002277904329,\n",
              "  'precision': 0.8114942528735632,\n",
              "  'recall': 0.7968397291196389,\n",
              "  'support': 443},\n",
              " 'accuracy': 0.7612179487179487,\n",
              " 'macro avg': {'f1-score': 0.7629874382339001,\n",
              "  'precision': 0.7675227118242899,\n",
              "  'recall': 0.7594152082704163,\n",
              "  'support': 1248},\n",
              " 'weighted avg': {'f1-score': 0.7617660812494569,\n",
              "  'precision': 0.7632139726382859,\n",
              "  'recall': 0.7612179487179487,\n",
              "  'support': 1248}}"
            ]
          },
          "metadata": {
            "tags": []
          },
          "execution_count": 19
        }
      ]
    },
    {
      "cell_type": "code",
      "metadata": {
        "id": "XS9wx2n4CYn2",
        "outputId": "7987d552-8f9f-4d11-cde3-25aba5dad572",
        "colab": {
          "base_uri": "https://localhost:8080/",
          "height": 358
        }
      },
      "source": [
        "with open('/content/drive/My Drive/Agg/vgg/report_a.json', 'r') as fp:\n",
        "    report_a = json.load(fp)\n",
        "# report_a"
      ],
      "execution_count": 8,
      "outputs": [
        {
          "output_type": "execute_result",
          "data": {
            "text/plain": [
              "{'0': {'f1-score': 0.6805778491171749,\n",
              "  'precision': 0.6883116883116883,\n",
              "  'recall': 0.6730158730158731,\n",
              "  'support': 315},\n",
              " '1': {'f1-score': 0.6687763713080168,\n",
              "  'precision': 0.6921397379912664,\n",
              "  'recall': 0.6469387755102041,\n",
              "  'support': 490},\n",
              " '2': {'f1-score': 0.7978378378378379,\n",
              "  'precision': 0.7655601659751037,\n",
              "  'recall': 0.8329571106094809,\n",
              "  'support': 443},\n",
              " 'accuracy': 0.719551282051282,\n",
              " 'macro avg': {'f1-score': 0.7157306860876765,\n",
              "  'precision': 0.7153371974260194,\n",
              "  'recall': 0.717637253045186,\n",
              "  'support': 1248},\n",
              " 'weighted avg': {'f1-score': 0.7175677937299685,\n",
              "  'precision': 0.7172354222442896,\n",
              "  'recall': 0.719551282051282,\n",
              "  'support': 1248}}"
            ]
          },
          "metadata": {
            "tags": []
          },
          "execution_count": 8
        }
      ]
    },
    {
      "cell_type": "code",
      "metadata": {
        "id": "hYC4xjAVvaLi",
        "outputId": "28c2d621-6424-4849-abd2-a7bfc7c19d11",
        "colab": {
          "base_uri": "https://localhost:8080/",
          "height": 460
        }
      },
      "source": [
        "import matplotlib.pyplot as plt\n",
        "labels=['Recall of class2','Accuracy','F1-score of class2']\n",
        "a=[report_a['2']['recall'],report_a['accuracy'],report_a['2']['f1-score']]\n",
        "b=[report_b['2']['recall'],report_b['accuracy'],report_b['2']['f1-score']]\n",
        "fig, ax = plt.subplots(figsize=(10,7))\n",
        "ax.bar(np.arange(len(labels))-0.2,a,width=0.4,label='model_a')\n",
        "ax.bar(np.arange(len(labels))+0.2,b, width=0.4,label='model_b')\n",
        "ax.set_ylabel('Scores')\n",
        "ax.set_title('model_a VS model_b')\n",
        "ax.set_xticks(np.arange(len(labels)))\n",
        "ax.set_xticklabels(labels)\n",
        "ax.legend()\n",
        "#model_a"
      ],
      "execution_count": 31,
      "outputs": [
        {
          "output_type": "execute_result",
          "data": {
            "text/plain": [
              "<matplotlib.legend.Legend at 0x7fdcc100b240>"
            ]
          },
          "metadata": {
            "tags": []
          },
          "execution_count": 31
        },
        {
          "output_type": "display_data",
          "data": {
            "image/png": "[encoded data removed]",
            "text/plain": [
              "<Figure size 720x504 with 1 Axes>"
            ]
          },
          "metadata": {
            "tags": [],
            "needs_background": "light"
          }
        }
      ]
    },
    {
      "cell_type": "markdown",
      "metadata": {
        "id": "3X02zxFhmfi_"
      },
      "source": [
        "# **Discussion**\n",
        "###Conceptual difference between the optimization metric (loss function) and overall model evaluation metric\n",
        "1. They are both function of y_true and y_test:\n",
        "$$F(Y,H_\\Theta(X))$$\n",
        "\n",
        "2. According to the document of keras:\n",
        "> Metrics\n",
        "\n",
        ">* A metric is a function that is used to judge the performance of your model.\n",
        ">* Metric functions are similar to loss functions, except that the results from evaluating a metric are not used when training the model. \n",
        ">* Note that you may use any ***loss function*** as a metric.\n",
        "\n",
        "3. Either the choice of loss function or evaluation metric should be exactly aligned  with the problem itself.\n",
        "\n",
        "\n",
        "\n",
        "\n"
      ]
    },
    {
      "cell_type": "code",
      "metadata": {
        "id": "M-T2y76UMame"
      },
      "source": [
        ""
      ],
      "execution_count": null,
      "outputs": []
    }
  ]
}